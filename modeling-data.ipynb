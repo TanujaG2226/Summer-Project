{
 "cells": [
  {
   "cell_type": "markdown",
   "id": "240f357a",
   "metadata": {},
   "source": [
    "# Medical Cost Models\n",
    "In this page of the notebook, I have imported medical cost data from Kaggle and have create different models in hopes of predicting medical charges."
   ]
  },
  {
   "cell_type": "code",
   "execution_count": 28,
   "id": "50847b31",
   "metadata": {},
   "outputs": [],
   "source": [
    "import pandas as pd\n",
    "import numpy as np\n",
    "from matplotlib import pyplot as plt\n",
    "import seaborn as sns\n",
    "from sklearn.linear_model import LinearRegression\n",
    "from sklearn.model_selection import train_test_split\n",
    "from sklearn.metrics import mean_absolute_error, mean_squared_error, r2_score\n",
    "from sklearn.tree import DecisionTreeRegressor\n",
    "from sklearn.ensemble import RandomForestRegressor\n",
    "from sklearn.neighbors import KNeighborsRegressor"
   ]
  },
  {
   "cell_type": "code",
   "execution_count": 2,
   "id": "2e73b774",
   "metadata": {},
   "outputs": [],
   "source": [
    "def configure_plots():\n",
    "    '''Configures plots by making some quality of life adjustments'''\n",
    "    for _ in range(2):\n",
    "        plt.rcParams['figure.figsize'] = [16, 9]\n",
    "        plt.rcParams['axes.titlesize'] = 20\n",
    "        plt.rcParams['axes.labelsize'] = 16\n",
    "        plt.rcParams['xtick.labelsize'] = 14\n",
    "        plt.rcParams['ytick.labelsize'] = 14\n",
    "        plt.rcParams['lines.linewidth'] = 2"
   ]
  },
  {
   "cell_type": "code",
   "execution_count": 3,
   "id": "484bc901",
   "metadata": {},
   "outputs": [
    {
     "data": {
      "application/javascript": [
       "IPython.OutputArea.prototype._should_scroll = function(lines) {\n",
       "    return false;\n",
       "}\n"
      ],
      "text/plain": [
       "<IPython.core.display.Javascript object>"
      ]
     },
     "metadata": {},
     "output_type": "display_data"
    }
   ],
   "source": [
    "%%javascript\n",
    "IPython.OutputArea.prototype._should_scroll = function(lines) {\n",
    "    return false;\n",
    "}"
   ]
  },
  {
   "cell_type": "markdown",
   "id": "8382794a",
   "metadata": {},
   "source": [
    "## Data Preparation"
   ]
  },
  {
   "cell_type": "code",
   "execution_count": 4,
   "id": "d5739c80",
   "metadata": {},
   "outputs": [],
   "source": [
    "data = pd.read_csv(\"./archive (2)/medical_cost.csv\")"
   ]
  },
  {
   "cell_type": "code",
   "execution_count": 5,
   "id": "0f78ce75",
   "metadata": {},
   "outputs": [
    {
     "data": {
      "text/html": [
       "<div>\n",
       "<style scoped>\n",
       "    .dataframe tbody tr th:only-of-type {\n",
       "        vertical-align: middle;\n",
       "    }\n",
       "\n",
       "    .dataframe tbody tr th {\n",
       "        vertical-align: top;\n",
       "    }\n",
       "\n",
       "    .dataframe thead th {\n",
       "        text-align: right;\n",
       "    }\n",
       "</style>\n",
       "<table border=\"1\" class=\"dataframe\">\n",
       "  <thead>\n",
       "    <tr style=\"text-align: right;\">\n",
       "      <th></th>\n",
       "      <th>Id</th>\n",
       "      <th>age</th>\n",
       "      <th>sex</th>\n",
       "      <th>bmi</th>\n",
       "      <th>children</th>\n",
       "      <th>smoker</th>\n",
       "      <th>region</th>\n",
       "      <th>charges</th>\n",
       "    </tr>\n",
       "  </thead>\n",
       "  <tbody>\n",
       "    <tr>\n",
       "      <th>0</th>\n",
       "      <td>1</td>\n",
       "      <td>19</td>\n",
       "      <td>female</td>\n",
       "      <td>27.900</td>\n",
       "      <td>0</td>\n",
       "      <td>yes</td>\n",
       "      <td>southwest</td>\n",
       "      <td>16884.92400</td>\n",
       "    </tr>\n",
       "    <tr>\n",
       "      <th>1</th>\n",
       "      <td>2</td>\n",
       "      <td>18</td>\n",
       "      <td>male</td>\n",
       "      <td>33.770</td>\n",
       "      <td>1</td>\n",
       "      <td>no</td>\n",
       "      <td>southeast</td>\n",
       "      <td>1725.55230</td>\n",
       "    </tr>\n",
       "    <tr>\n",
       "      <th>2</th>\n",
       "      <td>3</td>\n",
       "      <td>28</td>\n",
       "      <td>male</td>\n",
       "      <td>33.000</td>\n",
       "      <td>3</td>\n",
       "      <td>no</td>\n",
       "      <td>southeast</td>\n",
       "      <td>4449.46200</td>\n",
       "    </tr>\n",
       "    <tr>\n",
       "      <th>3</th>\n",
       "      <td>4</td>\n",
       "      <td>33</td>\n",
       "      <td>male</td>\n",
       "      <td>22.705</td>\n",
       "      <td>0</td>\n",
       "      <td>no</td>\n",
       "      <td>northwest</td>\n",
       "      <td>21984.47061</td>\n",
       "    </tr>\n",
       "    <tr>\n",
       "      <th>4</th>\n",
       "      <td>5</td>\n",
       "      <td>32</td>\n",
       "      <td>male</td>\n",
       "      <td>28.880</td>\n",
       "      <td>0</td>\n",
       "      <td>no</td>\n",
       "      <td>northwest</td>\n",
       "      <td>3866.85520</td>\n",
       "    </tr>\n",
       "  </tbody>\n",
       "</table>\n",
       "</div>"
      ],
      "text/plain": [
       "   Id  age     sex     bmi  children smoker     region      charges\n",
       "0   1   19  female  27.900         0    yes  southwest  16884.92400\n",
       "1   2   18    male  33.770         1     no  southeast   1725.55230\n",
       "2   3   28    male  33.000         3     no  southeast   4449.46200\n",
       "3   4   33    male  22.705         0     no  northwest  21984.47061\n",
       "4   5   32    male  28.880         0     no  northwest   3866.85520"
      ]
     },
     "execution_count": 5,
     "metadata": {},
     "output_type": "execute_result"
    }
   ],
   "source": [
    "data.head()"
   ]
  },
  {
   "cell_type": "code",
   "execution_count": 12,
   "id": "297460d8",
   "metadata": {},
   "outputs": [],
   "source": [
    "#To change categorical variables into numerical\n",
    "data_encoded = pd.get_dummies(data, drop_first=True)"
   ]
  },
  {
   "cell_type": "code",
   "execution_count": 13,
   "id": "df3a8be4",
   "metadata": {},
   "outputs": [],
   "source": [
    "#Setting x and y variables\n",
    "X = data_encoded.drop('charges', axis=1)\n",
    "y = data_encoded['charges']\n",
    "\n",
    "#Splitting data into testing and training and fitting the Regression\n",
    "X_train, X_test, y_train, y_test = train_test_split(X, y, test_size=0.2, random_state=10"
   ]
  },
  {
   "cell_type": "markdown",
   "id": "ff8ec7e3",
   "metadata": {},
   "source": [
    "## Modeling"
   ]
  },
  {
   "cell_type": "markdown",
   "id": "c271393c",
   "metadata": {},
   "source": [
    "In this section, I created four differnet models and calculated their mean squared error, root mean squared, and r-squared statistics."
   ]
  },
  {
   "cell_type": "markdown",
   "id": "bf36f509",
   "metadata": {},
   "source": [
    "### Model 1: Linear Regression"
   ]
  },
  {
   "cell_type": "code",
   "execution_count": 19,
   "id": "a9b56e0b",
   "metadata": {},
   "outputs": [],
   "source": [
    "model_reg = LinearRegression().fit(X_train, y_train)"
   ]
  },
  {
   "cell_type": "code",
   "execution_count": 20,
   "id": "5150360b",
   "metadata": {},
   "outputs": [
    {
     "name": "stdout",
     "output_type": "stream",
     "text": [
      "Intercept:-12889.557611588012\n",
      "Mean Squared Error: 42729492.91371807\n",
      "Root Mean Squared: 6536.7800111154165\n",
      "R-Squared: 0.6953348996308837\n"
     ]
    }
   ],
   "source": [
    "#stats of model\n",
    "y_pred_reg = model_reg.predict(X_test)\n",
    "\n",
    "mse_reg = mean_squared_error(y_test, y_pred_reg)\n",
    "rmse_reg = np.sqrt(mse_reg)\n",
    "r2_reg = r2_score(y_test, y_pred_reg)\n",
    "b = model_reg.intercept_\n",
    "\n",
    "print(f\"Intercept:{b}\")\n",
    "print(f\"Mean Squared Error: {mse_reg}\")\n",
    "print(f\"Root Mean Squared: {rmse_reg}\")\n",
    "print(f\"R-Squared: {r2_reg}\")"
   ]
  },
  {
   "cell_type": "markdown",
   "id": "097e4314",
   "metadata": {},
   "source": [
    "### Model 2: Decision Tree"
   ]
  },
  {
   "cell_type": "code",
   "execution_count": 21,
   "id": "0491bf8e",
   "metadata": {},
   "outputs": [],
   "source": [
    "model_tree = DecisionTreeRegressor(random_state=42).fit(X_train, y_train)"
   ]
  },
  {
   "cell_type": "code",
   "execution_count": 22,
   "id": "6d2822eb",
   "metadata": {},
   "outputs": [
    {
     "name": "stdout",
     "output_type": "stream",
     "text": [
      "Mean Squared Error: 51276239.37604052\n",
      "Root Mean Squared: 7160.742934643061\n",
      "R-Squared: 0.6343958340999446\n"
     ]
    }
   ],
   "source": [
    "#stats of model\n",
    "y_pred_reg = model_tree.predict(X_test)\n",
    "\n",
    "mse_reg = mean_squared_error(y_test, y_pred_reg)\n",
    "rmse_reg = np.sqrt(mse_reg)\n",
    "r2_reg = r2_score(y_test, y_pred_reg)\n",
    "\n",
    "print(f\"Mean Squared Error: {mse_reg}\")\n",
    "print(f\"Root Mean Squared: {rmse_reg}\")\n",
    "print(f\"R-Squared: {r2_reg}\")"
   ]
  },
  {
   "cell_type": "markdown",
   "id": "30784dfa",
   "metadata": {},
   "source": [
    "### Model 3: Random Forest"
   ]
  },
  {
   "cell_type": "code",
   "execution_count": 26,
   "id": "bf67db5f",
   "metadata": {},
   "outputs": [],
   "source": [
    "model_forest = RandomForestRegressor(n_estimators=100, random_state=42).fit(X_train, y_train)"
   ]
  },
  {
   "cell_type": "code",
   "execution_count": 27,
   "id": "ebfa6aae",
   "metadata": {},
   "outputs": [
    {
     "name": "stdout",
     "output_type": "stream",
     "text": [
      "Mean Squared Error: 26097755.63852684\n",
      "Root Mean Squared: 5108.5962493161305\n",
      "R-Squared: 0.8139206716757501\n"
     ]
    }
   ],
   "source": [
    "#stats of model\n",
    "y_pred_reg = model_forest.predict(X_test)\n",
    "\n",
    "mse_reg = mean_squared_error(y_test, y_pred_reg)\n",
    "rmse_reg = np.sqrt(mse_reg)\n",
    "r2_reg = r2_score(y_test, y_pred_reg)\n",
    "\n",
    "print(f\"Mean Squared Error: {mse_reg}\")\n",
    "print(f\"Root Mean Squared: {rmse_reg}\")\n",
    "print(f\"R-Squared: {r2_reg}\")"
   ]
  },
  {
   "cell_type": "markdown",
   "id": "e7a7df0e",
   "metadata": {},
   "source": [
    "### Model 4: k-Nearest Neighbors"
   ]
  },
  {
   "cell_type": "code",
   "execution_count": 29,
   "id": "1a4f5e65",
   "metadata": {},
   "outputs": [],
   "source": [
    "model_kneigh = KNeighborsRegressor(n_neighbors=5).fit(X_train, y_train)"
   ]
  },
  {
   "cell_type": "code",
   "execution_count": 30,
   "id": "2bfb132e",
   "metadata": {},
   "outputs": [
    {
     "name": "stdout",
     "output_type": "stream",
     "text": [
      "Mean Squared Error: 153431541.8301949\n",
      "Root Mean Squared: 12386.748638371366\n",
      "R-Squared: -0.0939805952267061\n"
     ]
    }
   ],
   "source": [
    "#stats of model\n",
    "y_pred_reg = model_kneigh.predict(X_test)\n",
    "\n",
    "mse_reg = mean_squared_error(y_test, y_pred_reg)\n",
    "rmse_reg = np.sqrt(mse_reg)\n",
    "r2_reg = r2_score(y_test, y_pred_reg)\n",
    "\n",
    "print(f\"Mean Squared Error: {mse_reg}\")\n",
    "print(f\"Root Mean Squared: {rmse_reg}\")\n",
    "print(f\"R-Squared: {r2_reg}\")"
   ]
  },
  {
   "cell_type": "markdown",
   "id": "b3396346",
   "metadata": {},
   "source": [
    "## Analysis of Results"
   ]
  },
  {
   "cell_type": "markdown",
   "id": "528d5f09",
   "metadata": {},
   "source": [
    "Starting with the root mean squared error (RMSE), the k-nearest neighbors has the largest with 12386.7486 while the random forest model has the smallest with 5108.596. This indicates that the random forest model has the least average difference between the model's predicted values and the actual values, while the k-nearest neighbors has the highest.\n",
    "\n",
    "Moving on to R-squared values, the decision tree model has the lowest positive r-squared of 0.63. This is not a terrible R-squared, but it could be higher. The random forest model has the highest positive r-squared of 0.81, which is very good. It is important to note that the k-nearest neighbors model ended up producing a negative r-squared value. This means that the model is fitted worse than the average fitted model (look at 3 in README). \n",
    "\n",
    "Given the large RMSE and negative R-squred model, the k-nearest neighbors is the worst model out of the 4. On the other hand, the random forest model is the best, since it has a small RMSE and large r-squared. "
   ]
  },
  {
   "cell_type": "code",
   "execution_count": null,
   "id": "4b6bd256",
   "metadata": {},
   "outputs": [],
   "source": []
  }
 ],
 "metadata": {
  "kernelspec": {
   "display_name": "Python 3 (ipykernel)",
   "language": "python",
   "name": "python3"
  },
  "language_info": {
   "codemirror_mode": {
    "name": "ipython",
    "version": 3
   },
   "file_extension": ".py",
   "mimetype": "text/x-python",
   "name": "python",
   "nbconvert_exporter": "python",
   "pygments_lexer": "ipython3",
   "version": "3.11.4"
  }
 },
 "nbformat": 4,
 "nbformat_minor": 5
}
